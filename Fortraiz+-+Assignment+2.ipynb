{
 "cells": [
  {
   "cell_type": "markdown",
   "metadata": {},
   "source": [
    "## Sample requests\n",
    "> 1. redbus\n",
    "> 2. yatra"
   ]
  },
  {
   "cell_type": "code",
   "execution_count": 79,
   "metadata": {
    "collapsed": true
   },
   "outputs": [],
   "source": [
    "redbus = ['https://www.redbus.in/search?fromCityName=Bangalore&fromCityId=122&toCityName=Hyderabad&toCityId=124&onward=16-Nov-2017&return=19-Nov-2017&opId=0&busType=Any',\n",
    "         'https://www.redbus.in/hotels/search/Bangalore?destId=6771549831164675055&checkIn=2017-11-22&checkOut=2017-11-24&noOfAdults=1&noOfRooms=1&noOfChildren=0&childrenAge1=0&childrenAge2=0']\n",
    "\n",
    "yatra = ['https://flight.yatra.com/air-search-ui/dom2/trigger?ADT=1&CHD=0&INF=0&class=Economy&destination=BLR&destinationCountry=IN&flexi=0&flight_depart_date=14/11/2017&noOfSegments=1&origin=DEL&originCountry=IN&source=fresco-home&type=O&version=1.1&viewName=normal',\n",
    "        'https://hotel.yatra.com/hotel-search/dom/search?checkoutDate=22/11/2017&checkinDate=15/11/2017&roomRequests[0].id=1&roomRequests[0].noOfAdults=2&roomRequests[0].noOfChildren=0&source=BOOKING_ENGINE&tenant=B2C&city.name=Bangalore&city.code=Bangalore&state.name=KART&state.code=KART&country.name=India&country.code=IND',\n",
    "        'https://ebus.yatra.com/busview/busdesktop/search?src=Bangalore&dest=Hyderabad&tt=O&ddate=2017-11-23&qty=1&source=fresco']"
   ]
  },
  {
   "cell_type": "markdown",
   "metadata": {},
   "source": [
    "### To find Ture datatype of a value , as every thing is in string\n",
    "\n",
    "**Below are four types of dataTypes we are aiming to find**\n",
    "1. Numerical\n",
    "2. Alphanumeric\n",
    "3. Alphabetic\n",
    "3. DateTime"
   ]
  },
  {
   "cell_type": "code",
   "execution_count": 75,
   "metadata": {},
   "outputs": [],
   "source": [
    "from dateutil.parser import parse\n",
    "### to find the true dataType from a string\n",
    "def find_data_type(value):\n",
    "    try:\n",
    "        return int(value) , 'numerical'\n",
    "    except:\n",
    "        try:\n",
    "            parse(value)\n",
    "            return value , 'datetime'\n",
    "        except:\n",
    "            if value.isalpha() == True:\n",
    "                return value , 'alphabetic'\n",
    "            return value , 'alphanumeric'"
   ]
  },
  {
   "cell_type": "code",
   "execution_count": 78,
   "metadata": {},
   "outputs": [],
   "source": [
    "def classify_query(query):\n",
    "    ## convert query to a json as explained\n",
    "    query_dict = {w:j for (w,j) in [k.split('=') for k in query.split('?')[1].split('&')]}\n",
    "    ### get values and there true data types in a list\n",
    "    keys_with_datatypes = [[w , find_data_type(query_dict[w])[1]] for w in query_dict.keys()]\n",
    "    ### update dict with true values i.e, '1' -- > 1 (String to numeric)\n",
    "    update_query_dict = {w:find_data_type(query_dict[w])[0] for w in query_dict.keys()}\n",
    "    return update_query_dict , keys_with_datatypes"
   ]
  },
  {
   "cell_type": "code",
   "execution_count": 77,
   "metadata": {},
   "outputs": [
    {
     "data": {
      "text/plain": [
       "({'checkIn': '2017-11-06',\n",
       "  'checkOut': '2017-11-07',\n",
       "  'childrenAge1': 0,\n",
       "  'childrenAge2': 0,\n",
       "  'destId': 6771549831164675055L,\n",
       "  'noOfAdults': 1,\n",
       "  'noOfChildren': 0,\n",
       "  'noOfRooms': 1},\n",
       " [['destId', 'numerical'],\n",
       "  ['noOfAdults', 'numerical'],\n",
       "  ['childrenAge2', 'numerical'],\n",
       "  ['checkIn', 'datetime'],\n",
       "  ['childrenAge1', 'numerical'],\n",
       "  ['noOfChildren', 'numerical'],\n",
       "  ['noOfRooms', 'numerical'],\n",
       "  ['checkOut', 'datetime']])"
      ]
     },
     "execution_count": 77,
     "metadata": {},
     "output_type": "execute_result"
    }
   ],
   "source": [
    "classify_query(string_2)"
   ]
  },
  {
   "cell_type": "code",
   "execution_count": 80,
   "metadata": {
    "collapsed": true
   },
   "outputs": [],
   "source": [
    "def extract_values_to_corresponding_datatypes(keys_with_datatypes , datatype):\n",
    "    return [w[0] for w in keys_with_datatypes if w[1]==datatype]"
   ]
  },
  {
   "cell_type": "markdown",
   "metadata": {},
   "source": [
    "#### Test on yatra request"
   ]
  },
  {
   "cell_type": "code",
   "execution_count": 94,
   "metadata": {
    "scrolled": false
   },
   "outputs": [
    {
     "name": "stdout",
     "output_type": "stream",
     "text": [
      "Testing on yatra requests\n",
      "Request 1 --> https://flight.yatra.com/air-search-ui/dom2/trigger?ADT=1&CHD=0&INF=0&class=Economy&destination=BLR&destinationCountry=IN&flexi=0&flight_depart_date=14/11/2017&noOfSegments=1&origin=DEL&originCountry=IN&source=fresco-home&type=O&version=1.1&viewName=normal\n",
      "Query to dict  {'origin': 'DEL', 'ADT': 1, 'flexi': 0, 'CHD': 0, 'viewName': 'normal', 'destinationCountry': 'IN', 'destination': 'BLR', 'noOfSegments': 1, 'source': 'fresco-home', 'version': '1.1', 'flight_depart_date': '14/11/2017', 'originCountry': 'IN', 'INF': 0, 'type': 'O', 'class': 'Economy'}\n",
      "Alphabetic keys :  ['origin', 'viewName', 'type', 'destination', 'originCountry', 'destinationCountry', 'class']\n",
      "Numerical Keys :  ['ADT', 'flexi', 'CHD', 'noOfSegments', 'INF']\n",
      "Alphanumeric Keys :  ['source']\n",
      "Date Time Keys :  ['version', 'flight_depart_date']\n",
      "\n",
      "\n",
      "Request 2 --> https://hotel.yatra.com/hotel-search/dom/search?checkoutDate=22/11/2017&checkinDate=15/11/2017&roomRequests[0].id=1&roomRequests[0].noOfAdults=2&roomRequests[0].noOfChildren=0&source=BOOKING_ENGINE&tenant=B2C&city.name=Bangalore&city.code=Bangalore&state.name=KART&state.code=KART&country.name=India&country.code=IND\n",
      "Query to dict  {'country.name': 'India', 'checkoutDate': '22/11/2017', 'source': 'BOOKING_ENGINE', 'roomRequests[0].noOfAdults': 2, 'checkinDate': '15/11/2017', 'country.code': 'IND', 'city.name': 'Bangalore', 'state.code': 'KART', 'state.name': 'KART', 'city.code': 'Bangalore', 'roomRequests[0].noOfChildren': 0, 'roomRequests[0].id': 1, 'tenant': 'B2C'}\n",
      "Alphabetic keys :  ['country.name', 'city.name', 'country.code', 'state.code', 'state.name', 'city.code']\n",
      "Numerical Keys :  ['roomRequests[0].noOfAdults', 'roomRequests[0].noOfChildren', 'roomRequests[0].id']\n",
      "Alphanumeric Keys :  ['source', 'tenant']\n",
      "Date Time Keys :  ['checkoutDate', 'checkinDate']\n",
      "\n",
      "\n",
      "Request 3 --> https://ebus.yatra.com/busview/busdesktop/search?src=Bangalore&dest=Hyderabad&tt=O&ddate=2017-11-23&qty=1&source=fresco\n",
      "Query to dict  {'src': 'Bangalore', 'dest': 'Hyderabad', 'tt': 'O', 'qty': 1, 'source': 'fresco', 'ddate': '2017-11-23'}\n",
      "Alphabetic keys :  ['src', 'dest', 'tt', 'source']\n",
      "Numerical Keys :  ['qty']\n",
      "Alphanumeric Keys :  []\n",
      "Date Time Keys :  ['ddate']\n",
      "\n",
      "\n"
     ]
    }
   ],
   "source": [
    "print 'Testing on yatra requests'\n",
    "for i,j in enumerate(yatra):\n",
    "    print 'Request {} --> {}'.format(i+1,j)\n",
    "    query_dict , keys_with_datatypes = classify_query(j)\n",
    "    print 'Query to dict ' , query_dict\n",
    "    #print query_dict\n",
    "    #print keys_with_datatypes\n",
    "    \n",
    "    print 'Alphabetic keys : ' , extract_values_to_corresponding_datatypes(keys_with_datatypes , 'alphabetic')\n",
    "    print 'Numerical Keys : ' , extract_values_to_corresponding_datatypes(keys_with_datatypes , 'numerical')\n",
    "    print 'Alphanumeric Keys : ', extract_values_to_corresponding_datatypes(keys_with_datatypes , 'alphanumeric')\n",
    "    print 'Date Time Keys : ' , extract_values_to_corresponding_datatypes(keys_with_datatypes , 'datetime')\n",
    "    print '\\n'"
   ]
  },
  {
   "cell_type": "code",
   "execution_count": 95,
   "metadata": {},
   "outputs": [
    {
     "name": "stdout",
     "output_type": "stream",
     "text": [
      "Testing on redbus requests\n",
      "Request 1 --> https://www.redbus.in/search?fromCityName=Bangalore&fromCityId=122&toCityName=Hyderabad&toCityId=124&onward=16-Nov-2017&return=19-Nov-2017&opId=0&busType=Any\n",
      "Query to dict  {'return': '19-Nov-2017', 'toCityName': 'Hyderabad', 'fromCityName': 'Bangalore', 'onward': '16-Nov-2017', 'busType': 'Any', 'toCityId': 124, 'opId': 0, 'fromCityId': 122}\n",
      "Alphabetic keys :  ['toCityName', 'fromCityName', 'busType']\n",
      "Numerical Keys :  ['toCityId', 'opId', 'fromCityId']\n",
      "Alphanumeric Keys :  []\n",
      "Date Time Keys :  ['return', 'onward']\n",
      "\n",
      "\n",
      "Request 2 --> https://www.redbus.in/hotels/search/Bangalore?destId=6771549831164675055&checkIn=2017-11-22&checkOut=2017-11-24&noOfAdults=1&noOfRooms=1&noOfChildren=0&childrenAge1=0&childrenAge2=0\n",
      "Query to dict  {'destId': 6771549831164675055L, 'noOfAdults': 1, 'childrenAge2': 0, 'checkIn': '2017-11-22', 'childrenAge1': 0, 'noOfChildren': 0, 'noOfRooms': 1, 'checkOut': '2017-11-24'}\n",
      "Alphabetic keys :  []\n",
      "Numerical Keys :  ['destId', 'noOfAdults', 'childrenAge2', 'childrenAge1', 'noOfChildren', 'noOfRooms']\n",
      "Alphanumeric Keys :  []\n",
      "Date Time Keys :  ['checkIn', 'checkOut']\n",
      "\n",
      "\n"
     ]
    }
   ],
   "source": [
    "print 'Testing on redbus requests'\n",
    "for i,j in enumerate(redbus):\n",
    "    print 'Request {} --> {}'.format(i+1,j)\n",
    "    query_dict , keys_with_datatypes = classify_query(j)\n",
    "    print 'Query to dict ' , query_dict\n",
    "    #print query_dict\n",
    "    #print keys_with_datatypes\n",
    "    \n",
    "    print 'Alphabetic keys : ' , extract_values_to_corresponding_datatypes(keys_with_datatypes , 'alphabetic')\n",
    "    print 'Numerical Keys : ' , extract_values_to_corresponding_datatypes(keys_with_datatypes , 'numerical')\n",
    "    print 'Alphanumeric Keys : ', extract_values_to_corresponding_datatypes(keys_with_datatypes , 'alphanumeric')\n",
    "    print 'Date Time Keys : ' , extract_values_to_corresponding_datatypes(keys_with_datatypes , 'datetime')\n",
    "    print '\\n'"
   ]
  }
 ],
 "metadata": {
  "kernelspec": {
   "display_name": "Python 2",
   "language": "python",
   "name": "python2"
  },
  "language_info": {
   "codemirror_mode": {
    "name": "ipython",
    "version": 2
   },
   "file_extension": ".py",
   "mimetype": "text/x-python",
   "name": "python",
   "nbconvert_exporter": "python",
   "pygments_lexer": "ipython2",
   "version": "2.7.13"
  }
 },
 "nbformat": 4,
 "nbformat_minor": 2
}
