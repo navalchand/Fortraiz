{
 "cells": [
  {
   "cell_type": "markdown",
   "metadata": {},
   "source": [
    "## Sample requests\n",
    "> 1. redbus\n",
    "> 2. yatra"
   ]
  },
  {
   "cell_type": "code",
   "execution_count": 79,
   "metadata": {
    "collapsed": true
   },
   "outputs": [],
   "source": [
    "redbus = ['https://www.redbus.in/search?fromCityName=Bangalore&fromCityId=122&toCityName=Hyderabad&toCityId=124&onward=16-Nov-2017&return=19-Nov-2017&opId=0&busType=Any',\n",
    "         'https://www.redbus.in/hotels/search/Bangalore?destId=6771549831164675055&checkIn=2017-11-22&checkOut=2017-11-24&noOfAdults=1&noOfRooms=1&noOfChildren=0&childrenAge1=0&childrenAge2=0']\n",
    "\n",
    "yatra = ['https://flight.yatra.com/air-search-ui/dom2/trigger?ADT=1&CHD=0&INF=0&class=Economy&destination=BLR&destinationCountry=IN&flexi=0&flight_depart_date=14/11/2017&noOfSegments=1&origin=DEL&originCountry=IN&source=fresco-home&type=O&version=1.1&viewName=normal',\n",
    "        'https://hotel.yatra.com/hotel-search/dom/search?checkoutDate=22/11/2017&checkinDate=15/11/2017&roomRequests[0].id=1&roomRequests[0].noOfAdults=2&roomRequests[0].noOfChildren=0&source=BOOKING_ENGINE&tenant=B2C&city.name=Bangalore&city.code=Bangalore&state.name=KART&state.code=KART&country.name=India&country.code=IND',\n",
    "        'https://ebus.yatra.com/busview/busdesktop/search?src=Bangalore&dest=Hyderabad&tt=O&ddate=2017-11-23&qty=1&source=fresco']"
   ]
  },
  {
   "cell_type": "markdown",
   "metadata": {},
   "source": [
    "### To find Ture datatype of a value , as every thing is in string\n",
    "\n",
    "**Below are four types of dataTypes we are aiming to find**\n",
    "1. Numerical\n",
    "2. Alphanumeric\n",
    "3. Alphabetic\n",
    "3. DateTime"
   ]
  },
  {
   "cell_type": "code",
   "execution_count": 75,
   "metadata": {},
   "outputs": [],
   "source": [
    "from dateutil.parser import parse\n",
    "### to find the true dataType from a string\n",
    "def find_data_type(value):\n",
    "    try:\n",
    "        return int(value) , 'numerical'\n",
    "    except:\n",
    "        try:\n",
    "            parse(value)\n",
    "            return value , 'datetime'\n",
    "        except:\n",
    "            if value.isalpha() == True:\n",
    "                return value , 'alphabetic'\n",
    "            return value , 'alphanumeric'"
   ]
  },
  {
   "cell_type": "code",
   "execution_count": 78,
   "metadata": {},
   "outputs": [],
   "source": [
    "def classify_query(query):\n",
    "    ## convert query to a json as explained\n",
    "    query_dict = {w:j for (w,j) in [k.split('=') for k in query.split('?')[1].split('&')]}\n",
    "    ### get values and there true data types in a list\n",
    "    keys_with_datatypes = [[w , find_data_type(query_dict[w])[1]] for w in query_dict.keys()]\n",
    "    ### update dict with true values i.e, '1' -- > 1 (String to numeric)\n",
    "    update_query_dict = {w:find_data_type(query_dict[w])[0] for w in query_dict.keys()}\n",
    "    return update_query_dict , keys_with_datatypes"
   ]
  },
  {
   "cell_type": "code",
   "execution_count": 77,
   "metadata": {},
   "outputs": [
    {
     "data": {
      "text/plain": [
       "({'checkIn': '2017-11-06',\n",
       "  'checkOut': '2017-11-07',\n",
       "  'childrenAge1': 0,\n",
       "  'childrenAge2': 0,\n",
       "  'destId': 6771549831164675055L,\n",
       "  'noOfAdults': 1,\n",
       "  'noOfChildren': 0,\n",
       "  'noOfRooms': 1},\n",
       " [['destId', 'numerical'],\n",
       "  ['noOfAdults', 'numerical'],\n",
       "  ['childrenAge2', 'numerical'],\n",
       "  ['checkIn', 'datetime'],\n",
       "  ['childrenAge1', 'numerical'],\n",
       "  ['noOfChildren', 'numerical'],\n",
       "  ['noOfRooms', 'numerical'],\n",
       "  ['checkOut', 'datetime']])"
      ]
     },
     "execution_count": 77,
     "metadata": {},
     "output_type": "execute_result"
    }
   ],
   "source": [
    "classify_query(string_2)"
   ]
  },
  {
   "cell_type": "code",
   "execution_count": null,
   "metadata": {
    "collapsed": true
   },
   "outputs": [],
   "source": []
  },
  {
   "cell_type": "code",
   "execution_count": 80,
   "metadata": {
    "collapsed": true
   },
   "outputs": [],
   "source": [
    "def extract_values_to_corresponding_datatypes(keys_with_datatypes , datatype):\n",
    "    return [w[0] for w in keys_with_datatypes if w[1]==datatype]"
   ]
  },
  {
   "cell_type": "markdown",
   "metadata": {},
   "source": [
    "#### Test on yatra request"
   ]
  },
  {
   "cell_type": "code",
   "execution_count": 94,
   "metadata": {
    "scrolled": false
   },
   "outputs": [
    {
     "name": "stdout",
     "output_type": "stream",
     "text": [
      "Testing on yatra requests\n",
      "Request 1 --> https://flight.yatra.com/air-search-ui/dom2/trigger?ADT=1&CHD=0&INF=0&class=Economy&destination=BLR&destinationCountry=IN&flexi=0&flight_depart_date=14/11/2017&noOfSegments=1&origin=DEL&originCountry=IN&source=fresco-home&type=O&version=1.1&viewName=normal\n",
      "Query to dict  {'origin': 'DEL', 'ADT': 1, 'flexi': 0, 'CHD': 0, 'viewName': 'normal', 'destinationCountry': 'IN', 'destination': 'BLR', 'noOfSegments': 1, 'source': 'fresco-home', 'version': '1.1', 'flight_depart_date': '14/11/2017', 'originCountry': 'IN', 'INF': 0, 'type': 'O', 'class': 'Economy'}\n",
      "Alphabetic keys :  ['origin', 'viewName', 'type', 'destination', 'originCountry', 'destinationCountry', 'class']\n",
      "Numerical Keys :  ['ADT', 'flexi', 'CHD', 'noOfSegments', 'INF']\n",
      "Alphanumeric Keys :  ['source']\n",
      "Date Time Keys :  ['version', 'flight_depart_date']\n",
      "\n",
      "\n",
      "Request 2 --> https://hotel.yatra.com/hotel-search/dom/search?checkoutDate=22/11/2017&checkinDate=15/11/2017&roomRequests[0].id=1&roomRequests[0].noOfAdults=2&roomRequests[0].noOfChildren=0&source=BOOKING_ENGINE&tenant=B2C&city.name=Bangalore&city.code=Bangalore&state.name=KART&state.code=KART&country.name=India&country.code=IND\n",
      "Query to dict  {'country.name': 'India', 'checkoutDate': '22/11/2017', 'source': 'BOOKING_ENGINE', 'roomRequests[0].noOfAdults': 2, 'checkinDate': '15/11/2017', 'country.code': 'IND', 'city.name': 'Bangalore', 'state.code': 'KART', 'state.name': 'KART', 'city.code': 'Bangalore', 'roomRequests[0].noOfChildren': 0, 'roomRequests[0].id': 1, 'tenant': 'B2C'}\n",
      "Alphabetic keys :  ['country.name', 'city.name', 'country.code', 'state.code', 'state.name', 'city.code']\n",
      "Numerical Keys :  ['roomRequests[0].noOfAdults', 'roomRequests[0].noOfChildren', 'roomRequests[0].id']\n",
      "Alphanumeric Keys :  ['source', 'tenant']\n",
      "Date Time Keys :  ['checkoutDate', 'checkinDate']\n",
      "\n",
      "\n",
      "Request 3 --> https://ebus.yatra.com/busview/busdesktop/search?src=Bangalore&dest=Hyderabad&tt=O&ddate=2017-11-23&qty=1&source=fresco\n",
      "Query to dict  {'src': 'Bangalore', 'dest': 'Hyderabad', 'tt': 'O', 'qty': 1, 'source': 'fresco', 'ddate': '2017-11-23'}\n",
      "Alphabetic keys :  ['src', 'dest', 'tt', 'source']\n",
      "Numerical Keys :  ['qty']\n",
      "Alphanumeric Keys :  []\n",
      "Date Time Keys :  ['ddate']\n",
      "\n",
      "\n"
     ]
    }
   ],
   "source": [
    "print 'Testing on yatra requests'\n",
    "for i,j in enumerate(yatra):\n",
    "    print 'Request {} --> {}'.format(i+1,j)\n",
    "    query_dict , keys_with_datatypes = classify_query(j)\n",
    "    print 'Query to dict ' , query_dict\n",
    "    #print query_dict\n",
    "    #print keys_with_datatypes\n",
    "    \n",
    "    print 'Alphabetic keys : ' , extract_values_to_corresponding_datatypes(keys_with_datatypes , 'alphabetic')\n",
    "    print 'Numerical Keys : ' , extract_values_to_corresponding_datatypes(keys_with_datatypes , 'numerical')\n",
    "    print 'Alphanumeric Keys : ', extract_values_to_corresponding_datatypes(keys_with_datatypes , 'alphanumeric')\n",
    "    print 'Date Time Keys : ' , extract_values_to_corresponding_datatypes(keys_with_datatypes , 'datetime')\n",
    "    print '\\n'"
   ]
  },
  {
   "cell_type": "code",
   "execution_count": 95,
   "metadata": {
    "scrolled": true
   },
   "outputs": [
    {
     "name": "stdout",
     "output_type": "stream",
     "text": [
      "Testing on redbus requests\n",
      "Request 1 --> https://www.redbus.in/search?fromCityName=Bangalore&fromCityId=122&toCityName=Hyderabad&toCityId=124&onward=16-Nov-2017&return=19-Nov-2017&opId=0&busType=Any\n",
      "Query to dict  {'return': '19-Nov-2017', 'toCityName': 'Hyderabad', 'fromCityName': 'Bangalore', 'onward': '16-Nov-2017', 'busType': 'Any', 'toCityId': 124, 'opId': 0, 'fromCityId': 122}\n",
      "Alphabetic keys :  ['toCityName', 'fromCityName', 'busType']\n",
      "Numerical Keys :  ['toCityId', 'opId', 'fromCityId']\n",
      "Alphanumeric Keys :  []\n",
      "Date Time Keys :  ['return', 'onward']\n",
      "\n",
      "\n",
      "Request 2 --> https://www.redbus.in/hotels/search/Bangalore?destId=6771549831164675055&checkIn=2017-11-22&checkOut=2017-11-24&noOfAdults=1&noOfRooms=1&noOfChildren=0&childrenAge1=0&childrenAge2=0\n",
      "Query to dict  {'destId': 6771549831164675055L, 'noOfAdults': 1, 'childrenAge2': 0, 'checkIn': '2017-11-22', 'childrenAge1': 0, 'noOfChildren': 0, 'noOfRooms': 1, 'checkOut': '2017-11-24'}\n",
      "Alphabetic keys :  []\n",
      "Numerical Keys :  ['destId', 'noOfAdults', 'childrenAge2', 'childrenAge1', 'noOfChildren', 'noOfRooms']\n",
      "Alphanumeric Keys :  []\n",
      "Date Time Keys :  ['checkIn', 'checkOut']\n",
      "\n",
      "\n"
     ]
    }
   ],
   "source": [
    "print 'Testing on redbus requests'\n",
    "for i,j in enumerate(redbus):\n",
    "    print 'Request {} --> {}'.format(i+1,j)\n",
    "    query_dict , keys_with_datatypes = classify_query(j)\n",
    "    print 'Query to dict ' , query_dict\n",
    "    #print query_dict\n",
    "    #print keys_with_datatypes\n",
    "    \n",
    "    print 'Alphabetic keys : ' , extract_values_to_corresponding_datatypes(keys_with_datatypes , 'alphabetic')\n",
    "    print 'Numerical Keys : ' , extract_values_to_corresponding_datatypes(keys_with_datatypes , 'numerical')\n",
    "    print 'Alphanumeric Keys : ', extract_values_to_corresponding_datatypes(keys_with_datatypes , 'alphanumeric')\n",
    "    print 'Date Time Keys : ' , extract_values_to_corresponding_datatypes(keys_with_datatypes , 'datetime')\n",
    "    print '\\n'"
   ]
  },
  {
   "cell_type": "code",
   "execution_count": null,
   "metadata": {
    "collapsed": true
   },
   "outputs": [],
   "source": []
  },
  {
   "cell_type": "markdown",
   "metadata": {},
   "source": [
    "# Second part"
   ]
  },
  {
   "cell_type": "markdown",
   "metadata": {},
   "source": [
    "### Preparing training dataset"
   ]
  },
  {
   "cell_type": "code",
   "execution_count": 111,
   "metadata": {
    "collapsed": true
   },
   "outputs": [],
   "source": [
    "def create_training_data_for_query(query):\n",
    "    ## convert query to json as explained\n",
    "    query_dict = {w:j for (w,j) in [k.split('=') for k in query.split('?')[1].split('&')]}\n",
    "    ### get values and there true data types in a list\n",
    "    keys_with_datatypes = [[query_dict[w] , find_data_type(query_dict[w])[1]] for w in query_dict.keys()]\n",
    "\n",
    "    return query_dict , keys_with_datatypes"
   ]
  },
  {
   "cell_type": "code",
   "execution_count": 195,
   "metadata": {
    "collapsed": true
   },
   "outputs": [],
   "source": [
    "train = []"
   ]
  },
  {
   "cell_type": "code",
   "execution_count": 196,
   "metadata": {
    "scrolled": true
   },
   "outputs": [
    {
     "name": "stdout",
     "output_type": "stream",
     "text": [
      "collecting training data on yatra requests\n",
      "Request 1 --> https://flight.yatra.com/air-search-ui/dom2/trigger?ADT=1&CHD=0&INF=0&class=Economy&destination=BLR&destinationCountry=IN&flexi=0&flight_depart_date=14/11/2017&noOfSegments=1&origin=DEL&originCountry=IN&source=fresco-home&type=O&version=1.1&viewName=normal\n",
      "Query to dict  {'origin': 'DEL', 'ADT': '1', 'flexi': '0', 'CHD': '0', 'viewName': 'normal', 'type': 'O', 'destination': 'BLR', 'noOfSegments': '1', 'source': 'fresco-home', 'version': '1.1', 'flight_depart_date': '14/11/2017', 'originCountry': 'IN', 'INF': '0', 'destinationCountry': 'IN', 'class': 'Economy'}\n",
      "\n",
      "\n",
      "Request 2 --> https://hotel.yatra.com/hotel-search/dom/search?checkoutDate=22/11/2017&checkinDate=15/11/2017&roomRequests[0].id=1&roomRequests[0].noOfAdults=2&roomRequests[0].noOfChildren=0&source=BOOKING_ENGINE&tenant=B2C&city.name=Bangalore&city.code=Bangalore&state.name=KART&state.code=KART&country.name=India&country.code=IND\n",
      "Query to dict  {'country.name': 'India', 'checkoutDate': '22/11/2017', 'city.name': 'Bangalore', 'roomRequests[0].noOfAdults': '2', 'checkinDate': '15/11/2017', 'country.code': 'IND', 'source': 'BOOKING_ENGINE', 'state.code': 'KART', 'state.name': 'KART', 'city.code': 'Bangalore', 'roomRequests[0].noOfChildren': '0', 'roomRequests[0].id': '1', 'tenant': 'B2C'}\n",
      "\n",
      "\n",
      "Request 3 --> https://ebus.yatra.com/busview/busdesktop/search?src=Bangalore&dest=Hyderabad&tt=O&ddate=2017-11-23&qty=1&source=fresco\n",
      "Query to dict  {'src': 'Bangalore', 'dest': 'Hyderabad', 'tt': 'O', 'qty': '1', 'source': 'fresco', 'ddate': '2017-11-23'}\n",
      "\n",
      "\n"
     ]
    }
   ],
   "source": [
    "print 'collecting training data on yatra requests'\n",
    "for i,j in enumerate(yatra):\n",
    "    print 'Request {} --> {}'.format(i+1,j)\n",
    "    query_dict , keys_with_datatypes = create_training_data_for_query(j)\n",
    "    print 'Query to dict ' , query_dict\n",
    "    [train.append(w) for w in keys_with_datatypes]\n",
    "    print '\\n'"
   ]
  },
  {
   "cell_type": "code",
   "execution_count": 197,
   "metadata": {},
   "outputs": [
    {
     "name": "stdout",
     "output_type": "stream",
     "text": [
      "collecting training data on redbus requests\n",
      "Request 1 --> https://www.redbus.in/search?fromCityName=Bangalore&fromCityId=122&toCityName=Hyderabad&toCityId=124&onward=16-Nov-2017&return=19-Nov-2017&opId=0&busType=Any\n",
      "Query to dict  {'return': '19-Nov-2017', 'toCityName': 'Hyderabad', 'fromCityName': 'Bangalore', 'onward': '16-Nov-2017', 'busType': 'Any', 'toCityId': '124', 'opId': '0', 'fromCityId': '122'}\n",
      "\n",
      "\n",
      "Request 2 --> https://www.redbus.in/hotels/search/Bangalore?destId=6771549831164675055&checkIn=2017-11-22&checkOut=2017-11-24&noOfAdults=1&noOfRooms=1&noOfChildren=0&childrenAge1=0&childrenAge2=0\n",
      "Query to dict  {'destId': '6771549831164675055', 'noOfAdults': '1', 'childrenAge2': '0', 'checkIn': '2017-11-22', 'childrenAge1': '0', 'noOfChildren': '0', 'noOfRooms': '1', 'checkOut': '2017-11-24'}\n",
      "\n",
      "\n"
     ]
    }
   ],
   "source": [
    "print 'collecting training data on redbus requests'\n",
    "for i,j in enumerate(redbus):\n",
    "    print 'Request {} --> {}'.format(i+1,j)\n",
    "    query_dict , keys_with_datatypes = create_training_data_for_query(j)\n",
    "    print 'Query to dict ' , query_dict\n",
    "    [train.append(w) for w in keys_with_datatypes]\n",
    "    print '\\n'"
   ]
  },
  {
   "cell_type": "code",
   "execution_count": 199,
   "metadata": {
    "collapsed": true
   },
   "outputs": [],
   "source": [
    "for i in train:\n",
    "    i[0] = \" \".join([w+' ' for w in i[0]])"
   ]
  },
  {
   "cell_type": "code",
   "execution_count": 200,
   "metadata": {
    "scrolled": true
   },
   "outputs": [
    {
     "data": {
      "text/plain": [
       "[['D  E  L ', 'alphabetic'],\n",
       " ['1 ', 'numerical'],\n",
       " ['0 ', 'numerical'],\n",
       " ['0 ', 'numerical'],\n",
       " ['n  o  r  m  a  l ', 'alphabetic'],\n",
       " ['O ', 'alphabetic'],\n",
       " ['B  L  R ', 'alphabetic'],\n",
       " ['1 ', 'numerical'],\n",
       " ['f  r  e  s  c  o  -  h  o  m  e ', 'alphanumeric'],\n",
       " ['1  .  1 ', 'datetime'],\n",
       " ['1  4  /  1  1  /  2  0  1  7 ', 'datetime'],\n",
       " ['I  N ', 'alphabetic'],\n",
       " ['0 ', 'numerical'],\n",
       " ['I  N ', 'alphabetic'],\n",
       " ['E  c  o  n  o  m  y ', 'alphabetic'],\n",
       " ['I  n  d  i  a ', 'alphabetic'],\n",
       " ['2  2  /  1  1  /  2  0  1  7 ', 'datetime'],\n",
       " ['B  a  n  g  a  l  o  r  e ', 'alphabetic'],\n",
       " ['2 ', 'numerical'],\n",
       " ['1  5  /  1  1  /  2  0  1  7 ', 'datetime'],\n",
       " ['I  N  D ', 'alphabetic'],\n",
       " ['B  O  O  K  I  N  G  _  E  N  G  I  N  E ', 'alphanumeric'],\n",
       " ['K  A  R  T ', 'alphabetic'],\n",
       " ['K  A  R  T ', 'alphabetic'],\n",
       " ['B  a  n  g  a  l  o  r  e ', 'alphabetic'],\n",
       " ['0 ', 'numerical'],\n",
       " ['1 ', 'numerical'],\n",
       " ['B  2  C ', 'alphanumeric'],\n",
       " ['B  a  n  g  a  l  o  r  e ', 'alphabetic'],\n",
       " ['H  y  d  e  r  a  b  a  d ', 'alphabetic'],\n",
       " ['O ', 'alphabetic'],\n",
       " ['1 ', 'numerical'],\n",
       " ['f  r  e  s  c  o ', 'alphabetic'],\n",
       " ['2  0  1  7  -  1  1  -  2  3 ', 'datetime'],\n",
       " ['1  9  -  N  o  v  -  2  0  1  7 ', 'datetime'],\n",
       " ['H  y  d  e  r  a  b  a  d ', 'alphabetic'],\n",
       " ['B  a  n  g  a  l  o  r  e ', 'alphabetic'],\n",
       " ['1  6  -  N  o  v  -  2  0  1  7 ', 'datetime'],\n",
       " ['A  n  y ', 'alphabetic'],\n",
       " ['1  2  4 ', 'numerical'],\n",
       " ['0 ', 'numerical'],\n",
       " ['1  2  2 ', 'numerical'],\n",
       " ['6  7  7  1  5  4  9  8  3  1  1  6  4  6  7  5  0  5  5 ', 'numerical'],\n",
       " ['1 ', 'numerical'],\n",
       " ['0 ', 'numerical'],\n",
       " ['2  0  1  7  -  1  1  -  2  2 ', 'datetime'],\n",
       " ['0 ', 'numerical'],\n",
       " ['0 ', 'numerical'],\n",
       " ['1 ', 'numerical'],\n",
       " ['2  0  1  7  -  1  1  -  2  4 ', 'datetime']]"
      ]
     },
     "execution_count": 200,
     "metadata": {},
     "output_type": "execute_result"
    }
   ],
   "source": [
    "train"
   ]
  },
  {
   "cell_type": "markdown",
   "metadata": {},
   "source": [
    "### training Naive Bayes Classifier"
   ]
  },
  {
   "cell_type": "code",
   "execution_count": 146,
   "metadata": {
    "collapsed": true
   },
   "outputs": [],
   "source": [
    "from textblob.classifiers import NaiveBayesClassifier\n",
    "from textblob import TextBlob\n",
    "cl = NaiveBayesClassifier(train)\n"
   ]
  },
  {
   "cell_type": "code",
   "execution_count": 157,
   "metadata": {},
   "outputs": [
    {
     "name": "stdout",
     "output_type": "stream",
     "text": [
      "alphanumeric\n",
      "Most Informative Features\n",
      "             contains(7) = True           dateti : numeri =     10.8 : 1.0\n",
      "             contains(0) = False          alphab : dateti =      6.5 : 1.0\n",
      "             contains(7) = False          alphab : dateti =      6.5 : 1.0\n",
      "             contains(2) = False          alphab : dateti =      6.5 : 1.0\n",
      "             contains(s) = True           alphan : alphab =      5.2 : 1.0\n"
     ]
    }
   ],
   "source": [
    "def pre_data_type(value):\n",
    "    value = \" \".join([w+' ' for w in value])\n",
    "    return cl.classify(value)\n",
    "\n",
    "cl.show_informative_features(5)"
   ]
  },
  {
   "cell_type": "code",
   "execution_count": 201,
   "metadata": {},
   "outputs": [
    {
     "name": "stdout",
     "output_type": "stream",
     "text": [
      "Training accuracy Accuracy: 0.9\n"
     ]
    }
   ],
   "source": [
    "print(\"Training accuracy Accuracy: {0}\".format(cl.accuracy(train)))"
   ]
  },
  {
   "cell_type": "markdown",
   "metadata": {},
   "source": [
    "### testing above model on new requests"
   ]
  },
  {
   "cell_type": "code",
   "execution_count": 202,
   "metadata": {
    "collapsed": true
   },
   "outputs": [],
   "source": [
    "test_redbus = ['https://www.redbus.in/search?fromCityName=Bangalore&fromCityId=122&toCityName=Hyderabad&toCityId=124&onward=22-Dec-2017&return=26-Dec-2017&opId=0&busType=Any',\n",
    "              'https://www.redbus.in/hotels/search/Mumbai?destId=4213513766539949483&checkIn=2018-01-18&checkOut=2018-01-25&noOfAdults=4%2C3%2C2&noOfRooms=3&noOfChildren=0%2C0%2C1&childrenAge1=1%2C1%2C1&childrenAge2=1%2C1%2C1']\n",
    "\n",
    "test_yatra = ['https://www.yatra.com/byop/search?f_type=R&viewName=normal&flexi=0&noOfSegments=2&origin=BOM&originCountry=IN&destination=BLR&destinationCountry=IN&flight_depart_date=30/11/2017&arrivalDate=06/12/2017&INF=0&ADT=1&CHD=0&class=Economy&source=fresco-home&isDiffCheck=false&checkinDate_0=30/11/2017&checkoutDate_0=06/12/2017&roomRequests[0].id=1&roomRequests[0].noOfAdults=1&roomRequests[0].noOfChildren=0&h_type=rate&exclude=rates.hotels.tgRating&h_code_0=Bangalore&h_city_0=Bangalore&tenant=bydom' , \n",
    "             'https://homestays.yatra.com/homestay-search/domhs/search?checkinDate=22/11/2017&checkoutDate=25/11/2017&roomRequests[0].id=1&roomRequests[0].noOfAdults=4&roomRequests[0].noOfChildren=0&roomRequests[1].id=2&roomRequests[1].noOfAdults=3&roomRequests[1].noOfChildren=0&source=BOOKING_ENGINE&propertyType=homestay&appType=HOMESTAY&tenant=B2C&city.name=Goa&city.code=Goa']"
   ]
  },
  {
   "cell_type": "code",
   "execution_count": 203,
   "metadata": {
    "collapsed": true
   },
   "outputs": [],
   "source": [
    "### collect the info to further calculate the model performance\n",
    "test = []"
   ]
  },
  {
   "cell_type": "code",
   "execution_count": 205,
   "metadata": {},
   "outputs": [
    {
     "name": "stdout",
     "output_type": "stream",
     "text": [
      "collecting testing data on yatra requests\n",
      "Request 1 --> https://www.yatra.com/byop/search?f_type=R&viewName=normal&flexi=0&noOfSegments=2&origin=BOM&originCountry=IN&destination=BLR&destinationCountry=IN&flight_depart_date=30/11/2017&arrivalDate=06/12/2017&INF=0&ADT=1&CHD=0&class=Economy&source=fresco-home&isDiffCheck=false&checkinDate_0=30/11/2017&checkoutDate_0=06/12/2017&roomRequests[0].id=1&roomRequests[0].noOfAdults=1&roomRequests[0].noOfChildren=0&h_type=rate&exclude=rates.hotels.tgRating&h_code_0=Bangalore&h_city_0=Bangalore&tenant=bydom\n",
      "Query to dict  {'origin': 'BOM', 'checkoutDate_0': '06/12/2017', 'f_type': 'R', 'originCountry': 'IN', 'exclude': 'rates.hotels.tgRating', 'destination': 'BLR', 'noOfSegments': '2', 'source': 'fresco-home', 'h_code_0': 'Bangalore', 'destinationCountry': 'IN', 'ADT': '1', 'CHD': '0', 'viewName': 'normal', 'checkinDate_0': '30/11/2017', 'roomRequests[0].noOfChildren': '0', 'class': 'Economy', 'tenant': 'bydom', 'flexi': '0', 'arrivalDate': '06/12/2017', 'roomRequests[0].id': '1', 'isDiffCheck': 'false', 'roomRequests[0].noOfAdults': '1', 'flight_depart_date': '30/11/2017', 'h_type': 'rate', 'INF': '0', 'h_city_0': 'Bangalore'}\n",
      "\n",
      "\n",
      "Request 2 --> https://homestays.yatra.com/homestay-search/domhs/search?checkinDate=22/11/2017&checkoutDate=25/11/2017&roomRequests[0].id=1&roomRequests[0].noOfAdults=4&roomRequests[0].noOfChildren=0&roomRequests[1].id=2&roomRequests[1].noOfAdults=3&roomRequests[1].noOfChildren=0&source=BOOKING_ENGINE&propertyType=homestay&appType=HOMESTAY&tenant=B2C&city.name=Goa&city.code=Goa\n",
      "Query to dict  {'roomRequests[1].noOfAdults': '3', 'city.code': 'Goa', 'checkoutDate': '25/11/2017', 'appType': 'HOMESTAY', 'roomRequests[1].noOfChildren': '0', 'roomRequests[0].noOfAdults': '4', 'checkinDate': '22/11/2017', 'roomRequests[1].id': '2', 'source': 'BOOKING_ENGINE', 'propertyType': 'homestay', 'roomRequests[0].noOfChildren': '0', 'city.name': 'Goa', 'roomRequests[0].id': '1', 'tenant': 'B2C'}\n",
      "\n",
      "\n",
      "collecting testing data on redbus requests\n",
      "Request 1 --> https://www.redbus.in/search?fromCityName=Bangalore&fromCityId=122&toCityName=Hyderabad&toCityId=124&onward=22-Dec-2017&return=26-Dec-2017&opId=0&busType=Any\n",
      "Query to dict  {'return': '26-Dec-2017', 'toCityName': 'Hyderabad', 'fromCityName': 'Bangalore', 'onward': '22-Dec-2017', 'busType': 'Any', 'toCityId': '124', 'opId': '0', 'fromCityId': '122'}\n",
      "\n",
      "\n",
      "Request 2 --> https://www.redbus.in/hotels/search/Mumbai?destId=4213513766539949483&checkIn=2018-01-18&checkOut=2018-01-25&noOfAdults=4%2C3%2C2&noOfRooms=3&noOfChildren=0%2C0%2C1&childrenAge1=1%2C1%2C1&childrenAge2=1%2C1%2C1\n",
      "Query to dict  {'destId': '4213513766539949483', 'noOfAdults': '4%2C3%2C2', 'childrenAge2': '1%2C1%2C1', 'checkIn': '2018-01-18', 'childrenAge1': '1%2C1%2C1', 'noOfChildren': '0%2C0%2C1', 'noOfRooms': '3', 'checkOut': '2018-01-25'}\n",
      "\n",
      "\n"
     ]
    }
   ],
   "source": [
    "print 'collecting testing data on yatra requests'\n",
    "for i,j in enumerate(test_yatra):\n",
    "    \n",
    "    ### collecting the datatypes from previous logic so that we can compare it with the model built using naive bayes\n",
    "    print 'Request {} --> {}'.format(i+1,j)\n",
    "    query_dict , keys_with_datatypes = create_training_data_for_query(j)\n",
    "    print 'Query to dict ' , query_dict\n",
    "    [test.append(w) for w in keys_with_datatypes]\n",
    "    print '\\n'\n",
    "    \n",
    "print 'collecting testing data on redbus requests'\n",
    "for i,j in enumerate(test_redbus):\n",
    "    ### collecting the datatypes from previous logic so that we can compare it with the model built using naive bayes\n",
    "    print 'Request {} --> {}'.format(i+1,j)\n",
    "    query_dict , keys_with_datatypes = create_training_data_for_query(j)\n",
    "    print 'Query to dict ' , query_dict\n",
    "    [test.append(w) for w in keys_with_datatypes]\n",
    "    print '\\n'"
   ]
  },
  {
   "cell_type": "code",
   "execution_count": 206,
   "metadata": {},
   "outputs": [],
   "source": [
    "for i in test:\n",
    "    i[0] = \" \".join([w+' ' for w in i[0]])"
   ]
  },
  {
   "cell_type": "code",
   "execution_count": 207,
   "metadata": {},
   "outputs": [],
   "source": [
    "\n",
    "def classify_query_using_classifier(query):\n",
    "    ## convert query to json as explained\n",
    "    query_dict = {w:j for (w,j) in [k.split('=') for k in query.split('?')[1].split('&')]}\n",
    "    ### get values and there true data types in a list from naive bayes classifer\n",
    "    keys_with_datatypes = [[w , pre_data_type(query_dict[w])] for w in query_dict.keys()]\n",
    "    return query_dict , keys_with_datatypes"
   ]
  },
  {
   "cell_type": "code",
   "execution_count": 208,
   "metadata": {},
   "outputs": [
    {
     "name": "stdout",
     "output_type": "stream",
     "text": [
      "Testing on redbus requests\n",
      "Request 1 --> https://www.redbus.in/search?fromCityName=Bangalore&fromCityId=122&toCityName=Hyderabad&toCityId=124&onward=22-Dec-2017&return=26-Dec-2017&opId=0&busType=Any\n",
      "Query to dict  {'return': '26-Dec-2017', 'toCityName': 'Hyderabad', 'fromCityName': 'Bangalore', 'onward': '22-Dec-2017', 'busType': 'Any', 'toCityId': '124', 'opId': '0', 'fromCityId': '122'}\n",
      "Alphabetic keys :  ['toCityName', 'fromCityName', 'busType']\n",
      "Numerical Keys :  ['toCityId', 'opId', 'fromCityId']\n",
      "Alphanumeric Keys :  []\n",
      "Date Time Keys :  ['return', 'onward']\n",
      "\n",
      "\n",
      "Request 2 --> https://www.redbus.in/hotels/search/Mumbai?destId=4213513766539949483&checkIn=2018-01-18&checkOut=2018-01-25&noOfAdults=4%2C3%2C2&noOfRooms=3&noOfChildren=0%2C0%2C1&childrenAge1=1%2C1%2C1&childrenAge2=1%2C1%2C1\n",
      "Query to dict  {'destId': '4213513766539949483', 'noOfAdults': '4%2C3%2C2', 'childrenAge2': '1%2C1%2C1', 'checkIn': '2018-01-18', 'childrenAge1': '1%2C1%2C1', 'noOfChildren': '0%2C0%2C1', 'noOfRooms': '3', 'checkOut': '2018-01-25'}\n",
      "Alphabetic keys :  []\n",
      "Numerical Keys :  ['noOfAdults', 'childrenAge2', 'checkIn', 'childrenAge1', 'noOfChildren', 'noOfRooms', 'checkOut']\n",
      "Alphanumeric Keys :  []\n",
      "Date Time Keys :  ['destId']\n",
      "\n",
      "\n"
     ]
    }
   ],
   "source": [
    "print 'Testing on redbus requests'\n",
    "for i,j in enumerate(test_redbus):\n",
    "    print 'Request {} --> {}'.format(i+1,j)\n",
    "    query_dict , keys_with_datatypes = classify_query_using_classifier(j)\n",
    "    print 'Query to dict ' , query_dict\n",
    "    #print query_dict\n",
    "    #print keys_with_datatypes\n",
    "    \n",
    "    print 'Alphabetic keys : ' , extract_values_to_corresponding_datatypes(keys_with_datatypes , 'alphabetic')\n",
    "    print 'Numerical Keys : ' , extract_values_to_corresponding_datatypes(keys_with_datatypes , 'numerical')\n",
    "    print 'Alphanumeric Keys : ', extract_values_to_corresponding_datatypes(keys_with_datatypes , 'alphanumeric')\n",
    "    print 'Date Time Keys : ' , extract_values_to_corresponding_datatypes(keys_with_datatypes , 'datetime')\n",
    "    print '\\n'"
   ]
  },
  {
   "cell_type": "code",
   "execution_count": 209,
   "metadata": {},
   "outputs": [
    {
     "name": "stdout",
     "output_type": "stream",
     "text": [
      "Testing on yatra requests\n",
      "Request 1 --> https://www.yatra.com/byop/search?f_type=R&viewName=normal&flexi=0&noOfSegments=2&origin=BOM&originCountry=IN&destination=BLR&destinationCountry=IN&flight_depart_date=30/11/2017&arrivalDate=06/12/2017&INF=0&ADT=1&CHD=0&class=Economy&source=fresco-home&isDiffCheck=false&checkinDate_0=30/11/2017&checkoutDate_0=06/12/2017&roomRequests[0].id=1&roomRequests[0].noOfAdults=1&roomRequests[0].noOfChildren=0&h_type=rate&exclude=rates.hotels.tgRating&h_code_0=Bangalore&h_city_0=Bangalore&tenant=bydom\n",
      "Query to dict  {'origin': 'BOM', 'checkoutDate_0': '06/12/2017', 'f_type': 'R', 'originCountry': 'IN', 'exclude': 'rates.hotels.tgRating', 'destination': 'BLR', 'noOfSegments': '2', 'source': 'fresco-home', 'h_code_0': 'Bangalore', 'destinationCountry': 'IN', 'ADT': '1', 'CHD': '0', 'viewName': 'normal', 'checkinDate_0': '30/11/2017', 'roomRequests[0].noOfChildren': '0', 'class': 'Economy', 'tenant': 'bydom', 'flexi': '0', 'arrivalDate': '06/12/2017', 'roomRequests[0].id': '1', 'isDiffCheck': 'false', 'roomRequests[0].noOfAdults': '1', 'flight_depart_date': '30/11/2017', 'h_type': 'rate', 'INF': '0', 'h_city_0': 'Bangalore'}\n",
      "Alphabetic keys :  ['origin', 'originCountry', 'exclude', 'destination', 'h_code_0', 'destinationCountry', 'viewName', 'class', 'tenant', 'isDiffCheck', 'h_type', 'h_city_0']\n",
      "Numerical Keys :  ['f_type', 'noOfSegments', 'ADT', 'CHD', 'roomRequests[0].noOfChildren', 'flexi', 'roomRequests[0].id', 'roomRequests[0].noOfAdults', 'INF']\n",
      "Alphanumeric Keys :  ['source']\n",
      "Date Time Keys :  ['checkoutDate_0', 'checkinDate_0', 'arrivalDate', 'flight_depart_date']\n",
      "\n",
      "\n",
      "Request 2 --> https://homestays.yatra.com/homestay-search/domhs/search?checkinDate=22/11/2017&checkoutDate=25/11/2017&roomRequests[0].id=1&roomRequests[0].noOfAdults=4&roomRequests[0].noOfChildren=0&roomRequests[1].id=2&roomRequests[1].noOfAdults=3&roomRequests[1].noOfChildren=0&source=BOOKING_ENGINE&propertyType=homestay&appType=HOMESTAY&tenant=B2C&city.name=Goa&city.code=Goa\n",
      "Query to dict  {'roomRequests[1].noOfAdults': '3', 'city.code': 'Goa', 'checkoutDate': '25/11/2017', 'appType': 'HOMESTAY', 'roomRequests[1].noOfChildren': '0', 'roomRequests[0].noOfAdults': '4', 'checkinDate': '22/11/2017', 'roomRequests[1].id': '2', 'source': 'BOOKING_ENGINE', 'propertyType': 'homestay', 'roomRequests[0].noOfChildren': '0', 'city.name': 'Goa', 'roomRequests[0].id': '1', 'tenant': 'B2C'}\n",
      "Alphabetic keys :  ['city.code', 'appType', 'propertyType', 'city.name']\n",
      "Numerical Keys :  ['roomRequests[1].noOfAdults', 'roomRequests[1].noOfChildren', 'roomRequests[0].noOfAdults', 'roomRequests[1].id', 'roomRequests[0].noOfChildren', 'roomRequests[0].id', 'tenant']\n",
      "Alphanumeric Keys :  ['source']\n",
      "Date Time Keys :  ['checkoutDate', 'checkinDate']\n",
      "\n",
      "\n"
     ]
    }
   ],
   "source": [
    "print 'Testing on yatra requests'\n",
    "for i,j in enumerate(test_yatra):\n",
    "    print 'Request {} --> {}'.format(i+1,j)\n",
    "    query_dict , keys_with_datatypes = classify_query_using_classifier(j)\n",
    "    print 'Query to dict ' , query_dict\n",
    "    #print query_dict\n",
    "    #print keys_with_datatypes\n",
    "    \n",
    "    print 'Alphabetic keys : ' , extract_values_to_corresponding_datatypes(keys_with_datatypes , 'alphabetic')\n",
    "    print 'Numerical Keys : ' , extract_values_to_corresponding_datatypes(keys_with_datatypes , 'numerical')\n",
    "    print 'Alphanumeric Keys : ', extract_values_to_corresponding_datatypes(keys_with_datatypes , 'alphanumeric')\n",
    "    print 'Date Time Keys : ' , extract_values_to_corresponding_datatypes(keys_with_datatypes , 'datetime')\n",
    "    print '\\n'"
   ]
  },
  {
   "cell_type": "code",
   "execution_count": 212,
   "metadata": {},
   "outputs": [
    {
     "name": "stdout",
     "output_type": "stream",
     "text": [
      "Testing data Accuracy: 0.821428571429\n"
     ]
    }
   ],
   "source": [
    "### test accuracy\n",
    "print(\"Testing data Accuracy: {0}\".format(cl.accuracy(test)))"
   ]
  }
 ],
 "metadata": {
  "kernelspec": {
   "display_name": "Python 2",
   "language": "python",
   "name": "python2"
  },
  "language_info": {
   "codemirror_mode": {
    "name": "ipython",
    "version": 2
   },
   "file_extension": ".py",
   "mimetype": "text/x-python",
   "name": "python",
   "nbconvert_exporter": "python",
   "pygments_lexer": "ipython2",
   "version": "2.7.13"
  }
 },
 "nbformat": 4,
 "nbformat_minor": 2
}
